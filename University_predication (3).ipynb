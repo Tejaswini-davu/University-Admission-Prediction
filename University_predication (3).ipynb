{
 "cells": [
  {
   "cell_type": "markdown",
   "id": "093c16ea",
   "metadata": {},
   "source": [
    "# SUPERVISED LEARNING(REGRESSION)"
   ]
  },
  {
   "cell_type": "code",
   "execution_count": null,
   "id": "927a8b5a",
   "metadata": {},
   "outputs": [],
   "source": [
    "#importing libraries"
   ]
  },
  {
   "cell_type": "code",
   "execution_count": null,
   "id": "ccee02c4",
   "metadata": {},
   "outputs": [],
   "source": [
    "import pandas as pd\n",
    "import numpy as np\n",
    "import warnings\n",
    "warnings.filterwarnings(\"ignore\")"
   ]
  },
  {
   "cell_type": "code",
   "execution_count": null,
   "id": "429db283",
   "metadata": {},
   "outputs": [],
   "source": [
    "#Loading the dataset into the program"
   ]
  },
  {
   "cell_type": "code",
   "execution_count": null,
   "id": "98c1e014",
   "metadata": {},
   "outputs": [],
   "source": [
    "df = pd.read_csv(\"C:\\\\Users\\\\Lenovo\\\\Downloads\\\\Admission_Predict.csv\")"
   ]
  },
  {
   "cell_type": "code",
   "execution_count": null,
   "id": "affff992",
   "metadata": {
    "scrolled": false
   },
   "outputs": [],
   "source": [
    "df.head()"
   ]
  },
  {
   "cell_type": "code",
   "execution_count": null,
   "id": "38510ce7",
   "metadata": {},
   "outputs": [],
   "source": [
    "#Data cleaning"
   ]
  },
  {
   "cell_type": "code",
   "execution_count": null,
   "id": "767a50d0",
   "metadata": {},
   "outputs": [],
   "source": [
    "df.rename({'Chance of Admit ':'Chance_of_Admit','GRE Score' :'GRE_Score','Serial No.':'Serial_No','TOEFL Score':'TOEFL_Score','University Rating':'University_Rating'}, inplace = True, axis=1)"
   ]
  },
  {
   "cell_type": "code",
   "execution_count": null,
   "id": "1c2a6167",
   "metadata": {},
   "outputs": [],
   "source": [
    "df.head()"
   ]
  },
  {
   "cell_type": "code",
   "execution_count": null,
   "id": "20bd5f7f",
   "metadata": {},
   "outputs": [],
   "source": [
    "df[df.duplicated()]"
   ]
  },
  {
   "cell_type": "code",
   "execution_count": null,
   "id": "31dfd63e",
   "metadata": {},
   "outputs": [],
   "source": [
    "df.set_index('Serial_No',inplace = True)"
   ]
  },
  {
   "cell_type": "code",
   "execution_count": null,
   "id": "a46f0bd1",
   "metadata": {},
   "outputs": [],
   "source": [
    "df.head()"
   ]
  },
  {
   "cell_type": "code",
   "execution_count": null,
   "id": "55bc42c6",
   "metadata": {},
   "outputs": [],
   "source": [
    "#Basic checks(unique values)"
   ]
  },
  {
   "cell_type": "code",
   "execution_count": null,
   "id": "6cbdf71d",
   "metadata": {},
   "outputs": [],
   "source": [
    "for i in df.columns:\n",
    "    if i == 'int32' or 'float64':\n",
    "        print(i)\n",
    "        print(\"..................\")\n",
    "        print(df[i].unique())\n",
    "    elif i == 'object':\n",
    "        print(i)\n",
    "        print(\"..................\")\n",
    "        print(df[i].unique())"
   ]
  },
  {
   "cell_type": "code",
   "execution_count": null,
   "id": "2a6db5d3",
   "metadata": {},
   "outputs": [],
   "source": [
    "#Missing_values"
   ]
  },
  {
   "cell_type": "code",
   "execution_count": null,
   "id": "6adc6e21",
   "metadata": {},
   "outputs": [],
   "source": [
    "df.isnull().sum()"
   ]
  },
  {
   "cell_type": "markdown",
   "id": "e206cbfd",
   "metadata": {},
   "source": [
    "EDA"
   ]
  },
  {
   "cell_type": "code",
   "execution_count": null,
   "id": "cb4db882",
   "metadata": {},
   "outputs": [],
   "source": [
    "def uni_analysis(data):\n",
    "    for i in data.columns:\n",
    "        if data[i].dtype == 'object':\n",
    "            print()\n",
    "            print(\"Categorical column Characterstics:\")\n",
    "            print((\"Column Name\"),i)\n",
    "            print(data[i].value_counts())\n",
    "            print(\"Mode\",data[i].mode())\n",
    "            print(\".....................................\")\n",
    "        elif data[i].dtype=='float64':\n",
    "            print()\n",
    "            print(\"Numerical column\")\n",
    "            print((\"Column Name\"),i)\n",
    "            print(\"Describing the data \" , data[i].describe())\n",
    "            print(\"Min \",data[i].min())\n",
    "            print(\"Max \",data[i].max())\n",
    "            print(data[i].value_counts())\n",
    "            print(\"......................................\")\n",
    "        elif data[i].dtype=='int32' or 'int62':\n",
    "            print()\n",
    "            print(\"Numerical column\")\n",
    "            print((\"Column Name\"),i)\n",
    "            print(\"Min \",data[i].min())\n",
    "            print(\"Max \",data[i].max())\n",
    "            print(data[i].value_counts())\n",
    "            print(\"Mode\",data[i].mode())\n",
    "            print(\"describe\",data[i].describe())\n",
    "            print(\"......................................\")"
   ]
  },
  {
   "cell_type": "code",
   "execution_count": null,
   "id": "0ec9aeae",
   "metadata": {},
   "outputs": [],
   "source": [
    "uni_analysis(df)"
   ]
  },
  {
   "cell_type": "markdown",
   "id": "7d46b04c",
   "metadata": {},
   "source": [
    "UNIVARIATE ANALYSIS:\n",
    "\n",
    "\n",
    " * The Minimum GRE score present in the dataset is 290 and Maximum GRE score is 340\n",
    " * The Average  GRE Score is 316.\n",
    " * Most of the students GRE score is above 300.\n",
    " * The Minimum TOEFL  score is 92 and maximum TOEFL is 120\n",
    " * Most of the students TOEFL Score is above 100.\n",
    " * Most of the universities are having 3 star above and rating.\n",
    " * Most of the students have sop rating 4 and 3.5\n",
    " * The average SOP rating 3.40\n",
    " * Most of the students have LOR rating 3.0 and above\n",
    " * The Average LOR rating is 3.45\n",
    " * The Minimum CGPA of the students is 6.8 and maximum is 9.92\n",
    " * The Average CGPA of the students is 8.59.\n",
    " * Most of the students are having Reasearch Experience"
   ]
  },
  {
   "cell_type": "markdown",
   "id": "c7d64ee7",
   "metadata": {},
   "source": [
    "BYVARIATE ANALYSIS"
   ]
  },
  {
   "cell_type": "code",
   "execution_count": null,
   "id": "4c34acea",
   "metadata": {},
   "outputs": [],
   "source": [
    "#(N_N)\n",
    "df.corr()"
   ]
  },
  {
   "cell_type": "markdown",
   "id": "7021a73b",
   "metadata": {},
   "source": [
    "import seaborn as sns\n",
    "sns.heatmap (df.corr(),annot =  True)"
   ]
  },
  {
   "cell_type": "markdown",
   "id": "9bf73404",
   "metadata": {},
   "source": [
    "INSIGHTS:\n",
    "\n",
    "* GRE_Score,TOEFL_Score,University_rating, and CGPA are highly correlated.\n",
    "* SOP,LOR and Research are moderately correlated."
   ]
  },
  {
   "cell_type": "markdown",
   "id": "25fe3ba5",
   "metadata": {},
   "source": [
    "Visualizations"
   ]
  },
  {
   "cell_type": "code",
   "execution_count": null,
   "id": "7ce07591",
   "metadata": {},
   "outputs": [],
   "source": [
    "import seaborn as sns"
   ]
  },
  {
   "cell_type": "code",
   "execution_count": null,
   "id": "34895447",
   "metadata": {},
   "outputs": [],
   "source": [
    "sns.scatterplot(data= df, x ='GRE_Score', y ='Chance_of_Admit')"
   ]
  },
  {
   "cell_type": "code",
   "execution_count": null,
   "id": "a84f24bf",
   "metadata": {},
   "outputs": [],
   "source": [
    "sns.scatterplot(data= df, x ='TOEFL_Score', y ='Chance_of_Admit')"
   ]
  },
  {
   "cell_type": "code",
   "execution_count": null,
   "id": "7b7c35f4",
   "metadata": {},
   "outputs": [],
   "source": [
    "import matplotlib.pyplot as plt \n",
    "plt.scatter(df['University_Rating'],df['Chance_of_Admit'])\n",
    "plt.show()"
   ]
  },
  {
   "cell_type": "code",
   "execution_count": null,
   "id": "78e47fb2",
   "metadata": {},
   "outputs": [],
   "source": [
    "plt.scatter(df['CGPA'],df['Chance_of_Admit'])\n",
    "plt.show()"
   ]
  },
  {
   "cell_type": "code",
   "execution_count": null,
   "id": "68cf2b4a",
   "metadata": {},
   "outputs": [],
   "source": [
    "sns.scatterplot(data= df, x ='SOP', y ='Chance_of_Admit')"
   ]
  },
  {
   "cell_type": "code",
   "execution_count": null,
   "id": "f6660cc5",
   "metadata": {},
   "outputs": [],
   "source": [
    "plt.scatter(df['LOR '] ,df['Chance_of_Admit'])\n",
    "plt.show()"
   ]
  },
  {
   "cell_type": "code",
   "execution_count": null,
   "id": "566e0b73",
   "metadata": {},
   "outputs": [],
   "source": [
    "plt.scatter(df['Research'], df['Chance_of_Admit'])\n",
    "plt.show()"
   ]
  },
  {
   "cell_type": "markdown",
   "id": "76c0f1f1",
   "metadata": {},
   "source": [
    "Visualization Insights:\n",
    " * Students whose GRE_Score is above 310 has having higher chance of admit.\n",
    " * Students whose Tofel_Score is above 100 has having higher chance of admit.\n",
    " * Students whose CGPA is above 8 has higher chance of admit.\n",
    " * Students whose SOP rating is above 3 has higher chance of admit.\n",
    " * Students whose LOR rating is above 2 has chance of admit.\n",
    " * students who do research has higher chance of admit."
   ]
  },
  {
   "cell_type": "markdown",
   "id": "43bd461f",
   "metadata": {},
   "source": [
    "OUTLIER TREATEMENT"
   ]
  },
  {
   "cell_type": "code",
   "execution_count": null,
   "id": "c24cb0ac",
   "metadata": {},
   "outputs": [],
   "source": [
    "def outlier_detect(df):\n",
    "    for i in df.columns:\n",
    "        if 'Chance_of_Admit'!=i:\n",
    "            if df[i].dtype =='float64':\n",
    "                print(\"Column:\",i)\n",
    "                print(\"------------------------------------------------\")\n",
    "                Q1 = df.describe().at['25%',i]\n",
    "                Q3 = df.describe().at['75%',i]\n",
    "                IQR = Q3 - Q1\n",
    "                LTV = Q1 - 1.5 * IQR\n",
    "                UTV = Q3 + 1.5 * IQR\n",
    "                print(\"Lower Outliers:\")\n",
    "                print()\n",
    "                lowerout = list(df[df[i]<LTV][i])\n",
    "                lowerout.sort()\n",
    "                print(lowerout)\n",
    "                print()\n",
    "                #mask method is used to replace the values\n",
    "                df[i] = df[i].mask(df[i]<LTV, LTV)\n",
    "                print(\"Upper Outliers:\")\n",
    "                print()\n",
    "                upperout = list(df[df[i]>UTV][i])\n",
    "                upperout.sort()\n",
    "                print(upperout) \n",
    "                print()\n",
    "                df[i] = df[i].mask(df[i]>UTV, UTV)\n",
    "           "
   ]
  },
  {
   "cell_type": "code",
   "execution_count": null,
   "id": "64d628f5",
   "metadata": {},
   "outputs": [],
   "source": [
    "outlier_detect(df)"
   ]
  },
  {
   "cell_type": "markdown",
   "id": "84a8b4c2",
   "metadata": {},
   "source": [
    "PREDICTIVE MODELLING"
   ]
  },
  {
   "cell_type": "markdown",
   "id": "b7cbe07a",
   "metadata": {},
   "source": [
    "# 1) x nd y"
   ]
  },
  {
   "cell_type": "code",
   "execution_count": null,
   "id": "64712e3f",
   "metadata": {},
   "outputs": [],
   "source": [
    "x = df.drop('Chance_of_Admit',axis = 1)\n",
    "y = df['Chance_of_Admit']"
   ]
  },
  {
   "cell_type": "code",
   "execution_count": null,
   "id": "b3f792f9",
   "metadata": {},
   "outputs": [],
   "source": [
    "x.head()"
   ]
  },
  {
   "cell_type": "markdown",
   "id": "f8ce52c4",
   "metadata": {},
   "source": [
    "# 2)Modeling Technique"
   ]
  },
  {
   "cell_type": "code",
   "execution_count": null,
   "id": "9d89220e",
   "metadata": {},
   "outputs": [],
   "source": [
    "df.corr()"
   ]
  },
  {
   "cell_type": "code",
   "execution_count": null,
   "id": "9c1da380",
   "metadata": {},
   "outputs": [],
   "source": [
    "import seaborn as sns\n",
    "sns.heatmap(df.corr(),annot = True)"
   ]
  },
  {
   "cell_type": "markdown",
   "id": "865525d1",
   "metadata": {},
   "source": [
    "We have both x and y , so that it is a Supervised Learning, and also y column having numerical continuous data, we can take regression model/algorithms\n",
    "Regression:\n",
    "\n",
    "Simple Linear Regression\n",
    "\n",
    "    * for simple linear regression we require one x     column data\n",
    "\n",
    "        line equation y = mx+c\n",
    "            - m - coefficient/slope/weight\n",
    "            - c - Inercept/Constant\n",
    "\n",
    "\n",
    "Linear : (These algorithms assumes we have linear data , that will follow a line equation y = mx+c)\n",
    "\n",
    "here m =  slope, c = intercept\n",
    "\n",
    "We Have\n",
    "\n",
    "Multiple Linear Regression\n",
    "\n",
    "        * Multiple Input columns (2 or more)\n",
    "\n",
    "        * Same Linear Regression method in sklearn can be used for mlr\n",
    "\n",
    "        * Line Equation\n",
    "            y = m1x1+m2x2+----mnxn+c\n",
    "           - m1, m2, --- mn -\n",
    "    coefficient/slope/weight\n",
    "                - c - Inercept/Constant\n",
    "\n",
    "2. Polynomial Regression \n",
    "        * A line equation which is converted into curve using degree of input features and linear regression)\n",
    "        * It is the curve equation of Linear Regression line , which if we have a linear data in curved nature we can use polynomial equations of linear regression to convert it into curved line.\n",
    "Linear\tPoly\n",
    "(Slr) y = mx+c\t1st degree : y = mx+c\n",
    "2nd degree : y = m1x+m2x^2+c\n",
    "3rd degree : y = m1x+m2x^2+m3x^3+c\n",
    "(Mlr) y = m1x1+m2x2+c\t1st degree : y = m1x1+m2x2+c\n",
    "2nd degree : y = m1x1+m2x2+m3x1^2+m4x2^2+m5x1x2+c\n",
    "        To work on polynomial regression\n",
    "\n",
    "        * we need to convert the input features into polynomial features, \n",
    "        * then we need to apply linear regression\n",
    "\n",
    "\n",
    "\n",
    "Regularization algorithms used for overfitting problem of linear regression (Cost value Changes, So the line Changes)\n",
    "\n",
    "3. L1 or Lasso Regression (Line coefficients are penalized with cost term) \n",
    "\n",
    "    Lasso : Cost = Sum(yact-ypred)^2+penalty*|slope|\n",
    "\n",
    "4. L2 or Ridge Regression (Line coefficients are penalized with cost term)\n",
    "\n",
    "    Ridge : Cost = Sum(yact-ypred)^2+penalty*(slope)^2\n",
    "\n",
    "NON LINEAR REGRESSION ALGORITHMS\n",
    "\n",
    "5. Random Forest REgressor\n",
    "6. Support vector Regressor"
   ]
  },
  {
   "cell_type": "markdown",
   "id": "e9684c86",
   "metadata": {},
   "source": [
    "# 3. Data Pre-Processing "
   ]
  },
  {
   "cell_type": "code",
   "execution_count": null,
   "id": "9b63be1c",
   "metadata": {},
   "outputs": [],
   "source": [
    "##Scaling"
   ]
  },
  {
   "cell_type": "code",
   "execution_count": null,
   "id": "b115a985",
   "metadata": {},
   "outputs": [],
   "source": [
    "from sklearn.preprocessing import StandardScaler\n",
    "sc = StandardScaler()"
   ]
  },
  {
   "cell_type": "code",
   "execution_count": null,
   "id": "9998297f",
   "metadata": {},
   "outputs": [],
   "source": [
    "df.dtypes"
   ]
  },
  {
   "cell_type": "code",
   "execution_count": null,
   "id": "235e255c",
   "metadata": {},
   "outputs": [],
   "source": [
    "df.head()"
   ]
  },
  {
   "cell_type": "code",
   "execution_count": null,
   "id": "bb2b9b7e",
   "metadata": {},
   "outputs": [],
   "source": [
    "x.iloc[:,[0,1,3,4,5]] = sc.fit_transform(x.iloc[:,[0,1,3,4,5]])"
   ]
  },
  {
   "cell_type": "code",
   "execution_count": null,
   "id": "a64979d9",
   "metadata": {},
   "outputs": [],
   "source": [
    "x.head()"
   ]
  },
  {
   "cell_type": "markdown",
   "id": "1f56f22c",
   "metadata": {},
   "source": [
    "# 4)Train_Test_split"
   ]
  },
  {
   "cell_type": "code",
   "execution_count": null,
   "id": "3ebba8ce",
   "metadata": {},
   "outputs": [],
   "source": [
    "from sklearn.model_selection import train_test_split"
   ]
  },
  {
   "cell_type": "code",
   "execution_count": null,
   "id": "03253a29",
   "metadata": {},
   "outputs": [],
   "source": [
    "x_train,x_test,y_train,y_test=train_test_split(x,y,test_size = 0.2,random_state = 12) "
   ]
  },
  {
   "cell_type": "code",
   "execution_count": null,
   "id": "7d3955f1",
   "metadata": {},
   "outputs": [],
   "source": [
    "x_train.shape,x_test.shape,y_train.shape,y_test.shape"
   ]
  },
  {
   "cell_type": "code",
   "execution_count": null,
   "id": "0e351bf8",
   "metadata": {},
   "outputs": [],
   "source": [
    "x_train.isnull().sum()"
   ]
  },
  {
   "cell_type": "code",
   "execution_count": null,
   "id": "5eb08e83",
   "metadata": {},
   "outputs": [],
   "source": [
    "y_train"
   ]
  },
  {
   "cell_type": "markdown",
   "id": "ff5a91b5",
   "metadata": {},
   "source": [
    "# 5)Define and train model"
   ]
  },
  {
   "cell_type": "markdown",
   "id": "b220829d",
   "metadata": {},
   "source": [
    "SLR"
   ]
  },
  {
   "cell_type": "code",
   "execution_count": null,
   "id": "5a502df8",
   "metadata": {},
   "outputs": [],
   "source": [
    "from sklearn.linear_model import LinearRegression\n",
    "slr = LinearRegression()"
   ]
  },
  {
   "cell_type": "code",
   "execution_count": null,
   "id": "b96786bb",
   "metadata": {},
   "outputs": [],
   "source": [
    "slr.fit(np.array(x_train['GRE_Score']).reshape(-1,1),y_train) ##doubt"
   ]
  },
  {
   "cell_type": "code",
   "execution_count": null,
   "id": "57db7acc",
   "metadata": {},
   "outputs": [],
   "source": [
    "slr.coef_"
   ]
  },
  {
   "cell_type": "code",
   "execution_count": null,
   "id": "e5ea34e7",
   "metadata": {},
   "outputs": [],
   "source": [
    "slr.intercept_"
   ]
  },
  {
   "cell_type": "markdown",
   "id": "ed1d308a",
   "metadata": {},
   "source": [
    "Chance_of_Admit = slr.coef_*GRE_Score+slr.intercept"
   ]
  },
  {
   "cell_type": "markdown",
   "id": "804627a4",
   "metadata": {},
   "source": [
    "MLR"
   ]
  },
  {
   "cell_type": "code",
   "execution_count": null,
   "id": "411ae763",
   "metadata": {},
   "outputs": [],
   "source": [
    "from sklearn.linear_model import LinearRegression\n",
    "mlr = LinearRegression()"
   ]
  },
  {
   "cell_type": "code",
   "execution_count": null,
   "id": "b4b45480",
   "metadata": {},
   "outputs": [],
   "source": [
    "mlr.fit(x_train,y_train)"
   ]
  },
  {
   "cell_type": "code",
   "execution_count": null,
   "id": "31abaf3c",
   "metadata": {},
   "outputs": [],
   "source": [
    "mlr.coef_"
   ]
  },
  {
   "cell_type": "code",
   "execution_count": null,
   "id": "98f3e39f",
   "metadata": {},
   "outputs": [],
   "source": [
    "mlr.intercept_"
   ]
  },
  {
   "cell_type": "code",
   "execution_count": null,
   "id": "79040ac8",
   "metadata": {},
   "outputs": [],
   "source": [
    "equation = str(mlr.intercept_)\n",
    "for i,j in zip(x_train.columns,mlr.coef_):\n",
    "    mx = '{}\"*\"{}'.format(i,j)\n",
    "    equation = equation+\") + (\"+mx"
   ]
  },
  {
   "cell_type": "code",
   "execution_count": null,
   "id": "f72266f1",
   "metadata": {},
   "outputs": [],
   "source": [
    "equation"
   ]
  },
  {
   "cell_type": "markdown",
   "id": "64e7cf83",
   "metadata": {},
   "source": [
    "Polynomial Regression"
   ]
  },
  {
   "cell_type": "code",
   "execution_count": null,
   "id": "b8153031",
   "metadata": {},
   "outputs": [],
   "source": [
    "from sklearn.preprocessing import PolynomialFeatures"
   ]
  },
  {
   "cell_type": "code",
   "execution_count": null,
   "id": "6d33d99d",
   "metadata": {},
   "outputs": [],
   "source": [
    "polyfeat = PolynomialFeatures(degree = 2) ## degree is hyperparam\n",
    "poly = LinearRegression()"
   ]
  },
  {
   "cell_type": "code",
   "execution_count": null,
   "id": "b33dbc42",
   "metadata": {},
   "outputs": [],
   "source": [
    "x_train_poly = polyfeat.fit_transform(x_train)\n",
    "x_test_poly = polyfeat.fit_transform(x_test)"
   ]
  },
  {
   "cell_type": "code",
   "execution_count": null,
   "id": "de03a101",
   "metadata": {},
   "outputs": [],
   "source": [
    "poly.fit(x_train_poly,y_train)"
   ]
  },
  {
   "cell_type": "markdown",
   "id": "ec61fe0c",
   "metadata": {},
   "source": [
    "Lasso"
   ]
  },
  {
   "cell_type": "code",
   "execution_count": null,
   "id": "3d8afefd",
   "metadata": {},
   "outputs": [],
   "source": [
    "from sklearn.linear_model import Lasso, Ridge"
   ]
  },
  {
   "cell_type": "code",
   "execution_count": null,
   "id": "ebefbef6",
   "metadata": {},
   "outputs": [],
   "source": [
    "lass =Lasso(alpha = 5) # alpha - hyperparam - penalty"
   ]
  },
  {
   "cell_type": "code",
   "execution_count": null,
   "id": "fb9587f3",
   "metadata": {},
   "outputs": [],
   "source": [
    "lass.fit(x_train,y_train)"
   ]
  },
  {
   "cell_type": "code",
   "execution_count": null,
   "id": "33fc2a7e",
   "metadata": {},
   "outputs": [],
   "source": [
    "lass.coef_,lass.intercept_"
   ]
  },
  {
   "cell_type": "code",
   "execution_count": null,
   "id": "3b165b34",
   "metadata": {},
   "outputs": [],
   "source": []
  },
  {
   "cell_type": "markdown",
   "id": "7257b0dc",
   "metadata": {},
   "source": [
    "Ridge Regression"
   ]
  },
  {
   "cell_type": "code",
   "execution_count": null,
   "id": "914b4cb6",
   "metadata": {},
   "outputs": [],
   "source": [
    "rid = Ridge(alpha = 5)"
   ]
  },
  {
   "cell_type": "code",
   "execution_count": null,
   "id": "e1ba1dab",
   "metadata": {},
   "outputs": [],
   "source": [
    "rid.fit(x_train,y_train)"
   ]
  },
  {
   "cell_type": "code",
   "execution_count": null,
   "id": "56adaf91",
   "metadata": {},
   "outputs": [],
   "source": [
    "rid.coef_,rid.intercept_"
   ]
  },
  {
   "cell_type": "code",
   "execution_count": null,
   "id": "b062b782",
   "metadata": {},
   "outputs": [],
   "source": []
  },
  {
   "cell_type": "markdown",
   "id": "1b2a62d7",
   "metadata": {},
   "source": [
    "Random Forest Regressor"
   ]
  },
  {
   "cell_type": "code",
   "execution_count": null,
   "id": "53027b56",
   "metadata": {},
   "outputs": [],
   "source": [
    "from sklearn.ensemble import RandomForestRegressor"
   ]
  },
  {
   "cell_type": "code",
   "execution_count": null,
   "id": "432c9a4f",
   "metadata": {},
   "outputs": [],
   "source": [
    "rf = RandomForestRegressor(n_estimators = 100) #n_estimators - hyperparam(number of decision tree)"
   ]
  },
  {
   "cell_type": "code",
   "execution_count": null,
   "id": "ab1f1ded",
   "metadata": {},
   "outputs": [],
   "source": [
    "rf.fit(x_train,y_train)"
   ]
  },
  {
   "cell_type": "code",
   "execution_count": null,
   "id": "9826dc8c",
   "metadata": {},
   "outputs": [],
   "source": [
    "print(rf.get_params())"
   ]
  },
  {
   "cell_type": "code",
   "execution_count": null,
   "id": "473963ab",
   "metadata": {},
   "outputs": [],
   "source": []
  },
  {
   "cell_type": "markdown",
   "id": "16935148",
   "metadata": {},
   "source": [
    "Supoort Vector Regressor"
   ]
  },
  {
   "cell_type": "code",
   "execution_count": null,
   "id": "79e23377",
   "metadata": {},
   "outputs": [],
   "source": [
    "from sklearn.svm import SVR"
   ]
  },
  {
   "cell_type": "code",
   "execution_count": null,
   "id": "37a4d835",
   "metadata": {},
   "outputs": [],
   "source": [
    "svr = SVR(kernel = 'rbf') ## Kernel -  hyperparam - for dividing data into spaces"
   ]
  },
  {
   "cell_type": "code",
   "execution_count": null,
   "id": "a94a234c",
   "metadata": {},
   "outputs": [],
   "source": [
    "svr.fit(x_train,y_train)"
   ]
  },
  {
   "cell_type": "code",
   "execution_count": null,
   "id": "73f87013",
   "metadata": {},
   "outputs": [],
   "source": [
    "svr.support_vectors_"
   ]
  },
  {
   "cell_type": "markdown",
   "id": "aa30975e",
   "metadata": {},
   "source": [
    "# 6) Input Columns Importance"
   ]
  },
  {
   "cell_type": "markdown",
   "id": "c2c52a57",
   "metadata": {},
   "source": [
    "Checking which columns are effcetive while doing the training\n",
    "\n",
    "Checking input column importance using statsmodel module"
   ]
  },
  {
   "cell_type": "code",
   "execution_count": null,
   "id": "03e9578d",
   "metadata": {},
   "outputs": [],
   "source": [
    "mldata = pd.concat([x,y], axis = 1)"
   ]
  },
  {
   "cell_type": "code",
   "execution_count": null,
   "id": "df87fa79",
   "metadata": {},
   "outputs": [],
   "source": [
    "mldata"
   ]
  },
  {
   "cell_type": "code",
   "execution_count": null,
   "id": "2e4ccb2b",
   "metadata": {},
   "outputs": [],
   "source": [
    "import statsmodels.formula.api as smf\n",
    "statmlr = smf.ols('y~x', data = mldata).fit()"
   ]
  },
  {
   "cell_type": "code",
   "execution_count": null,
   "id": "0cb8df20",
   "metadata": {},
   "outputs": [],
   "source": [
    "x.columns"
   ]
  },
  {
   "cell_type": "code",
   "execution_count": null,
   "id": "15f4fb7e",
   "metadata": {},
   "outputs": [],
   "source": [
    "statmlr.summary()"
   ]
  },
  {
   "cell_type": "code",
   "execution_count": null,
   "id": "4752c277",
   "metadata": {},
   "outputs": [],
   "source": [
    "statmlr.pvalues"
   ]
  },
  {
   "cell_type": "code",
   "execution_count": null,
   "id": "3d18037d",
   "metadata": {},
   "outputs": [],
   "source": [
    "col_index = []\n",
    "\n",
    "for i,val in enumerate(statmlr.pvalues):\n",
    "    if val<0.05:\n",
    "        print(i,val)\n",
    "        col_index.append(i)\n",
    "    else:\n",
    "        continue\n",
    "    \n",
    "        "
   ]
  },
  {
   "cell_type": "markdown",
   "id": "bf22440c",
   "metadata": {},
   "source": [
    "# 7)Evaluation of model performance/Performance Metric"
   ]
  },
  {
   "cell_type": "markdown",
   "id": "f8c4caa6",
   "metadata": {},
   "source": [
    "Performance Metric | Regression\n",
    "-------|-----------\n",
    "**Loss or Error**|MeanSquaredError/RMSE (For both Train and Test)\n",
    "**Model Score (Evaluation)** | R2score (Coefficient of Determination)\n",
    "**Bias-Variance Trade Off**|Higher error & Lower score (underfit)\n",
    "|Low Train error & High Test error (Overfit)\n",
    "**Cross-Val Score**|Checking model performance on entire x and y data\n",
    "**Visualizations**|Visualizations for models"
   ]
  },
  {
   "cell_type": "markdown",
   "id": "715b2614",
   "metadata": {},
   "source": [
    "# 7.1)Loss/Error(MSE,RMSE)"
   ]
  },
  {
   "cell_type": "markdown",
   "id": "31fcdba1",
   "metadata": {},
   "source": [
    " SLR"
   ]
  },
  {
   "cell_type": "code",
   "execution_count": null,
   "id": "63cd8d16",
   "metadata": {},
   "outputs": [],
   "source": [
    "from sklearn.metrics import r2_score,mean_squared_error"
   ]
  },
  {
   "cell_type": "code",
   "execution_count": null,
   "id": "fc7521ba",
   "metadata": {},
   "outputs": [],
   "source": [
    "y_test_predslr = slr.predict(np.array(x_test['GRE_Score']).reshape(-1,1))\n",
    "y_train_predslr = slr.predict(np.array(x_train['GRE_Score']).reshape(-1,1))"
   ]
  },
  {
   "cell_type": "code",
   "execution_count": null,
   "id": "12df114c",
   "metadata": {},
   "outputs": [],
   "source": [
    "##RMSE(As low as possible)\n",
    "trainrmse_slr = np.sqrt(mean_squared_error(y_train,y_train_predslr))\n",
    "testrmse_slr = np.sqrt(mean_squared_error(y_test,y_test_predslr))"
   ]
  },
  {
   "cell_type": "code",
   "execution_count": null,
   "id": "cf01bd1d",
   "metadata": {},
   "outputs": [],
   "source": [
    "trainrmse_slr,testrmse_slr"
   ]
  },
  {
   "cell_type": "markdown",
   "id": "cded5930",
   "metadata": {},
   "source": [
    "MLR"
   ]
  },
  {
   "cell_type": "code",
   "execution_count": null,
   "id": "c12b96ef",
   "metadata": {},
   "outputs": [],
   "source": [
    "y_test_predmlr = mlr.predict(x_test)\n",
    "y_train_predmlr= mlr.predict(x_train)"
   ]
  },
  {
   "cell_type": "code",
   "execution_count": null,
   "id": "e8b7d547",
   "metadata": {},
   "outputs": [],
   "source": [
    "##RMSE(As low as possible)\n",
    "trainrmse_mlr = np.sqrt(mean_squared_error(y_train,y_train_predmlr))\n",
    "testrmse_mlr = np.sqrt(mean_squared_error(y_test,y_test_predmlr))"
   ]
  },
  {
   "cell_type": "code",
   "execution_count": null,
   "id": "a43be492",
   "metadata": {},
   "outputs": [],
   "source": [
    "trainrmse_mlr,testrmse_mlr"
   ]
  },
  {
   "cell_type": "code",
   "execution_count": null,
   "id": "70099b68",
   "metadata": {},
   "outputs": [],
   "source": [
    "df['Chance_of_Admit'].min() ,df['Chance_of_Admit'].max()"
   ]
  },
  {
   "cell_type": "markdown",
   "id": "6fc6e5cc",
   "metadata": {},
   "source": [
    "Polynomial Regression"
   ]
  },
  {
   "cell_type": "code",
   "execution_count": null,
   "id": "8d923ef4",
   "metadata": {},
   "outputs": [],
   "source": [
    "y_test_predpoly = poly.predict(x_test_poly)\n",
    "y_train_predpoly= poly.predict(x_train_poly)"
   ]
  },
  {
   "cell_type": "code",
   "execution_count": null,
   "id": "3fae42bd",
   "metadata": {},
   "outputs": [],
   "source": [
    "trainrmse_poly =np.sqrt(mean_squared_error(y_train,y_train_predpoly))\n",
    "testrmse_poly =np.sqrt(mean_squared_error(y_test,y_test_predpoly))"
   ]
  },
  {
   "cell_type": "code",
   "execution_count": null,
   "id": "73a5549c",
   "metadata": {},
   "outputs": [],
   "source": [
    "trainrmse_poly,testrmse_poly"
   ]
  },
  {
   "cell_type": "markdown",
   "id": "ccfee593",
   "metadata": {},
   "source": [
    "Lasso and Ridge Regression"
   ]
  },
  {
   "cell_type": "code",
   "execution_count": null,
   "id": "e9e69fec",
   "metadata": {},
   "outputs": [],
   "source": [
    "y_test_predlass = lass.predict(x_test)\n",
    "y_train_predlass = lass.predict(x_train)"
   ]
  },
  {
   "cell_type": "code",
   "execution_count": null,
   "id": "3fd46c8c",
   "metadata": {},
   "outputs": [],
   "source": [
    "trainrmse_lass =np.sqrt(mean_squared_error(y_train,y_train_predlass))\n",
    "testrmse_lass =np.sqrt(mean_squared_error(y_test,y_test_predlass))"
   ]
  },
  {
   "cell_type": "code",
   "execution_count": null,
   "id": "4ff8801c",
   "metadata": {},
   "outputs": [],
   "source": [
    "trainrmse_lass,testrmse_lass"
   ]
  },
  {
   "cell_type": "code",
   "execution_count": null,
   "id": "0f41b028",
   "metadata": {},
   "outputs": [],
   "source": [
    "y_train_predrid = rid.predict(x_train)\n",
    "y_test_predrid = rid.predict(x_test)"
   ]
  },
  {
   "cell_type": "code",
   "execution_count": null,
   "id": "0f00db85",
   "metadata": {},
   "outputs": [],
   "source": [
    "trainrmse_rid = np.sqrt(mean_squared_error(y_train,y_train_predrid))\n",
    "testrmse_rid = np.sqrt(mean_squared_error(y_test,y_test_predrid))"
   ]
  },
  {
   "cell_type": "code",
   "execution_count": null,
   "id": "baa99a26",
   "metadata": {},
   "outputs": [],
   "source": [
    "trainrmse_rid,testrmse_rid"
   ]
  },
  {
   "cell_type": "markdown",
   "id": "39c115ce",
   "metadata": {},
   "source": [
    "Random Forest Regressor"
   ]
  },
  {
   "cell_type": "code",
   "execution_count": null,
   "id": "6a8cdce3",
   "metadata": {},
   "outputs": [],
   "source": [
    "y_train_predrf = rf.predict(x_train)\n",
    "y_test_predrf = rf.predict(x_test)"
   ]
  },
  {
   "cell_type": "code",
   "execution_count": null,
   "id": "b7fe1fe7",
   "metadata": {},
   "outputs": [],
   "source": [
    "trainrmse_rf = np.sqrt(mean_squared_error(y_train,y_train_predrf))\n",
    "testrmse_rf = np.sqrt(mean_squared_error(y_test,y_test_predrf))"
   ]
  },
  {
   "cell_type": "code",
   "execution_count": null,
   "id": "7f28759d",
   "metadata": {},
   "outputs": [],
   "source": [
    "trainrmse_rf,testrmse_rf"
   ]
  },
  {
   "cell_type": "markdown",
   "id": "110ab675",
   "metadata": {},
   "source": [
    "Support vector Regressor"
   ]
  },
  {
   "cell_type": "code",
   "execution_count": null,
   "id": "14183aa3",
   "metadata": {},
   "outputs": [],
   "source": [
    "y_train_predsvr = rf.predict(x_train)\n",
    "y_test_predsvr = rf.predict(x_test)"
   ]
  },
  {
   "cell_type": "code",
   "execution_count": null,
   "id": "1e0369c6",
   "metadata": {},
   "outputs": [],
   "source": [
    "trainrmse_svr = np.sqrt(mean_squared_error(y_train,y_train_predsvr))\n",
    "testrmse_svr = np.sqrt(mean_squared_error(y_test,y_test_predsvr))"
   ]
  },
  {
   "cell_type": "code",
   "execution_count": null,
   "id": "fa53d0f7",
   "metadata": {},
   "outputs": [],
   "source": [
    "trainrmse_svr,testrmse_svr"
   ]
  },
  {
   "cell_type": "markdown",
   "id": "95c0da9e",
   "metadata": {},
   "source": [
    "INSIGHT : After comparing all the trainrmse and testrmse MLR performance is better compared to other"
   ]
  },
  {
   "cell_type": "markdown",
   "id": "f86b48f7",
   "metadata": {},
   "source": [
    "# Model Score(R2score)"
   ]
  },
  {
   "cell_type": "markdown",
   "id": "7fccf8fb",
   "metadata": {},
   "source": [
    "SLR"
   ]
  },
  {
   "cell_type": "code",
   "execution_count": null,
   "id": "2305740b",
   "metadata": {},
   "outputs": [],
   "source": [
    "##R2score(As high as possible)\n",
    "testr2_slr = r2_score(y_test,y_test_predslr)\n",
    "trainr2_slr =r2_score(y_train,y_train_predslr)"
   ]
  },
  {
   "cell_type": "code",
   "execution_count": null,
   "id": "2ebf5e4c",
   "metadata": {},
   "outputs": [],
   "source": [
    "testr2_slr,trainr2_slr"
   ]
  },
  {
   "cell_type": "markdown",
   "id": "259f8d87",
   "metadata": {},
   "source": [
    "MLR"
   ]
  },
  {
   "cell_type": "code",
   "execution_count": null,
   "id": "c4829852",
   "metadata": {},
   "outputs": [],
   "source": [
    "##R2score(As high as possible)\n",
    "testr2_mlr = r2_score(y_test,y_test_predmlr)\n",
    "trainr2_mlr =r2_score(y_train,y_train_predmlr)"
   ]
  },
  {
   "cell_type": "code",
   "execution_count": null,
   "id": "2fe5e50d",
   "metadata": {},
   "outputs": [],
   "source": [
    "testr2_mlr,trainr2_mlr"
   ]
  },
  {
   "cell_type": "markdown",
   "id": "9cfcd649",
   "metadata": {},
   "source": [
    "Polynomial Regression"
   ]
  },
  {
   "cell_type": "code",
   "execution_count": null,
   "id": "810b5270",
   "metadata": {},
   "outputs": [],
   "source": [
    "testr2_poly = r2_score(y_test,y_test_predpoly)\n",
    "trainr2_poly =r2_score(y_train,y_train_predpoly)"
   ]
  },
  {
   "cell_type": "code",
   "execution_count": null,
   "id": "f0e361ca",
   "metadata": {},
   "outputs": [],
   "source": [
    "testr2_mlr,trainr2_mlr"
   ]
  },
  {
   "cell_type": "markdown",
   "id": "b33a6743",
   "metadata": {},
   "source": [
    "Lasso and Ridge Regression"
   ]
  },
  {
   "cell_type": "code",
   "execution_count": null,
   "id": "17c7c759",
   "metadata": {},
   "outputs": [],
   "source": [
    "trainr2_lass = r2_score(y_train,y_train_predlass)\n",
    "testr2_lass = r2_score(y_test,y_test_predlass)"
   ]
  },
  {
   "cell_type": "code",
   "execution_count": null,
   "id": "99b83a86",
   "metadata": {},
   "outputs": [],
   "source": [
    "trainr2_lass,testr2_lass"
   ]
  },
  {
   "cell_type": "code",
   "execution_count": null,
   "id": "70f04e0d",
   "metadata": {},
   "outputs": [],
   "source": [
    "trainr2_rid = r2_score(y_train,y_train_predrid)\n",
    "testr2_rid = r2_score(y_test,y_test_predrid)"
   ]
  },
  {
   "cell_type": "code",
   "execution_count": null,
   "id": "e13590c2",
   "metadata": {},
   "outputs": [],
   "source": [
    "trainr2_rid,testr2_rid"
   ]
  },
  {
   "cell_type": "markdown",
   "id": "3355050f",
   "metadata": {},
   "source": [
    "Random Forest Regressor"
   ]
  },
  {
   "cell_type": "code",
   "execution_count": null,
   "id": "3362393b",
   "metadata": {},
   "outputs": [],
   "source": [
    "trainr2_rf = r2_score(y_train,y_train_predrf)\n",
    "testr2_rf = r2_score(y_test,y_test_predrf)"
   ]
  },
  {
   "cell_type": "code",
   "execution_count": null,
   "id": "3cbccf70",
   "metadata": {},
   "outputs": [],
   "source": [
    "trainr2_rf,testr2_rf"
   ]
  },
  {
   "cell_type": "markdown",
   "id": "106f9d9a",
   "metadata": {},
   "source": [
    "Support Vector Regressor"
   ]
  },
  {
   "cell_type": "code",
   "execution_count": null,
   "id": "afdb69fa",
   "metadata": {},
   "outputs": [],
   "source": [
    "trainr2_svr = r2_score(y_train,y_train_predsvr)\n",
    "testr2_svr = r2_score(y_test,y_test_predsvr)"
   ]
  },
  {
   "cell_type": "code",
   "execution_count": null,
   "id": "7a93a272",
   "metadata": {},
   "outputs": [],
   "source": [
    "trainr2_svr,testr2_svr"
   ]
  },
  {
   "cell_type": "markdown",
   "id": "bd8ec853",
   "metadata": {},
   "source": [
    "INSIGHT : MLR,polynomial Regression,Ridge Regression,Random Forest Regressor,Support Vector regressor have good r2score,but when comparing rmse and r2 MLR is a better compared to other."
   ]
  },
  {
   "cell_type": "markdown",
   "id": "678e6c67",
   "metadata": {},
   "source": [
    "# 7.2)Bias - Variance Trade off"
   ]
  },
  {
   "cell_type": "markdown",
   "id": "7e1c7113",
   "metadata": {},
   "source": [
    "SLR"
   ]
  },
  {
   "cell_type": "code",
   "execution_count": null,
   "id": "502a2e31",
   "metadata": {},
   "outputs": [],
   "source": [
    "l = []\n",
    "bvtf_slr = l\n",
    "\n",
    "if trainr2_slr<0.50 and testr2_slr<0.50:\n",
    "    l.append(\"underfit\")\n",
    "elif trainr2_slr>0.70 and testr2_slr<0.60:\n",
    "    l.append(\"overfit\")\n",
    "else:\n",
    "    l.append(\"Goodfit\")   "
   ]
  },
  {
   "cell_type": "code",
   "execution_count": null,
   "id": "09ae982b",
   "metadata": {},
   "outputs": [],
   "source": [
    "bvtf_slr"
   ]
  },
  {
   "cell_type": "markdown",
   "id": "a4321908",
   "metadata": {},
   "source": [
    "MLR"
   ]
  },
  {
   "cell_type": "code",
   "execution_count": null,
   "id": "4dd8083c",
   "metadata": {},
   "outputs": [],
   "source": [
    "l = []\n",
    "bvtf_mlr = l\n",
    "\n",
    "if trainr2_mlr<0.50 and testr2_mlr<0.50:\n",
    "    l.append(\"underfit\")\n",
    "elif trainr2_mlr>0.70 and testr2_mlr<0.60:\n",
    "    l.append(\"overfit\")\n",
    "else:\n",
    "    l.append(\"Goodfit\")   "
   ]
  },
  {
   "cell_type": "code",
   "execution_count": null,
   "id": "ac257a5b",
   "metadata": {},
   "outputs": [],
   "source": [
    "bvtf_mlr"
   ]
  },
  {
   "cell_type": "markdown",
   "id": "987fa60b",
   "metadata": {},
   "source": [
    "Polynomial Regression"
   ]
  },
  {
   "cell_type": "code",
   "execution_count": null,
   "id": "d3a4855b",
   "metadata": {},
   "outputs": [],
   "source": [
    "l = []\n",
    "bvtf_poly = l\n",
    "\n",
    "if trainr2_poly<0.50 and testr2_poly<0.50:\n",
    "    l.append('underfit')\n",
    "elif trainr2_poly>0.70 and testr2_poly<0.60:\n",
    "    l.append('overfit')\n",
    "else:\n",
    "    l.append('Goodfit')\n"
   ]
  },
  {
   "cell_type": "code",
   "execution_count": null,
   "id": "4a6e1f7a",
   "metadata": {},
   "outputs": [],
   "source": [
    "bvtf_poly"
   ]
  },
  {
   "cell_type": "markdown",
   "id": "53e89f3e",
   "metadata": {},
   "source": [
    "Lasso Regression"
   ]
  },
  {
   "cell_type": "code",
   "execution_count": null,
   "id": "77fd81de",
   "metadata": {},
   "outputs": [],
   "source": [
    "l = []\n",
    "bvtf_lass = l\n",
    "\n",
    "if trainr2_lass<0.50 and testr2_lass<0.50:\n",
    "    l.append(\"underfit\")\n",
    "elif trainr2_lass>0.70 and testr2_lass<0.60:\n",
    "    l.append(\"overfit\")\n",
    "else:\n",
    "    l.append(\"Goodfit\")"
   ]
  },
  {
   "cell_type": "code",
   "execution_count": null,
   "id": "34b641b0",
   "metadata": {},
   "outputs": [],
   "source": [
    "bvtf_lass"
   ]
  },
  {
   "cell_type": "markdown",
   "id": "5b9a9d50",
   "metadata": {},
   "source": [
    "Ridge Regression"
   ]
  },
  {
   "cell_type": "code",
   "execution_count": null,
   "id": "51303d88",
   "metadata": {},
   "outputs": [],
   "source": [
    "l = []\n",
    "bvtf_rid = l\n",
    "if trainr2_rid<0.50 and testr2_rid<0.50:\n",
    "    l.append(\"underfit\")\n",
    "elif trainr2_rid>0.70 and testr2_rid<0.60:\n",
    "    l.append(\"overfit\")\n",
    "else:\n",
    "    l.append(\"Goodfit\")"
   ]
  },
  {
   "cell_type": "code",
   "execution_count": null,
   "id": "42fbe336",
   "metadata": {},
   "outputs": [],
   "source": [
    "bvtf_rid"
   ]
  },
  {
   "cell_type": "markdown",
   "id": "06549d9d",
   "metadata": {},
   "source": [
    "Random Forest Regressor"
   ]
  },
  {
   "cell_type": "code",
   "execution_count": null,
   "id": "a424c4dc",
   "metadata": {},
   "outputs": [],
   "source": [
    "l = []\n",
    "bvtf_rf = l\n",
    "\n",
    "if trainr2_rf<0.50 and testr2_rf<0.50:\n",
    "    l.append(\"underfit\")\n",
    "elif trainr2_rf>0.70 and testr2_rf<0.60:\n",
    "    l.append(\"overfit\")\n",
    "else:\n",
    "    l.append(\"Goodfit\")"
   ]
  },
  {
   "cell_type": "code",
   "execution_count": null,
   "id": "2b3aabfa",
   "metadata": {},
   "outputs": [],
   "source": [
    "bvtf_rf"
   ]
  },
  {
   "cell_type": "markdown",
   "id": "dca55f56",
   "metadata": {},
   "source": [
    "Support Vector Regressor"
   ]
  },
  {
   "cell_type": "code",
   "execution_count": null,
   "id": "a45cff09",
   "metadata": {},
   "outputs": [],
   "source": [
    "l = []\n",
    "bvtf_svr = l\n",
    "\n",
    "if trainr2_svr<0.50 and testr2_svr<0.50:\n",
    "    l.append(\"underfit\")\n",
    "elif trainr2_svr>0.70 and testr2_svr<0.60:\n",
    "    l.append(\"overfit\")\n",
    "else:\n",
    "    l.append(\"Goodfit\")"
   ]
  },
  {
   "cell_type": "code",
   "execution_count": null,
   "id": "2e139b9a",
   "metadata": {},
   "outputs": [],
   "source": [
    "bvtf_svr"
   ]
  },
  {
   "cell_type": "markdown",
   "id": "4c340b02",
   "metadata": {},
   "source": [
    "# 7.3)Cross-Validation"
   ]
  },
  {
   "cell_type": "code",
   "execution_count": null,
   "id": "8f208be9",
   "metadata": {},
   "outputs": [],
   "source": [
    "from sklearn.model_selection import cross_val_score"
   ]
  },
  {
   "cell_type": "markdown",
   "id": "c87f4351",
   "metadata": {},
   "source": [
    "SLR"
   ]
  },
  {
   "cell_type": "code",
   "execution_count": null,
   "id": "744adb16",
   "metadata": {},
   "outputs": [],
   "source": [
    "val_slr = cross_val_score(slr,x,y, cv =3)"
   ]
  },
  {
   "cell_type": "code",
   "execution_count": null,
   "id": "793ce1b5",
   "metadata": {},
   "outputs": [],
   "source": [
    "scores_slr = np.mean(val_slr)"
   ]
  },
  {
   "cell_type": "code",
   "execution_count": null,
   "id": "281da801",
   "metadata": {},
   "outputs": [],
   "source": [
    "scores_slr"
   ]
  },
  {
   "cell_type": "markdown",
   "id": "2945d442",
   "metadata": {},
   "source": [
    "MLR"
   ]
  },
  {
   "cell_type": "code",
   "execution_count": null,
   "id": "ab0e643f",
   "metadata": {},
   "outputs": [],
   "source": [
    "val_mlr=cross_val_score(mlr, x, y, cv=5)"
   ]
  },
  {
   "cell_type": "code",
   "execution_count": null,
   "id": "9b60bb2b",
   "metadata": {},
   "outputs": [],
   "source": [
    "scores_mlr=np.mean(val_mlr)"
   ]
  },
  {
   "cell_type": "code",
   "execution_count": null,
   "id": "485acdf5",
   "metadata": {},
   "outputs": [],
   "source": [
    "scores_mlr"
   ]
  },
  {
   "cell_type": "code",
   "execution_count": null,
   "id": "963ee303",
   "metadata": {},
   "outputs": [],
   "source": [
    "#The minimum error is 0.70 and maximum error is 0.85"
   ]
  },
  {
   "cell_type": "markdown",
   "id": "2055ce71",
   "metadata": {},
   "source": [
    "Polynomial Regression"
   ]
  },
  {
   "cell_type": "code",
   "execution_count": null,
   "id": "b4082bc9",
   "metadata": {},
   "outputs": [],
   "source": [
    "val_poly = cross_val_score(poly, x, y, cv=5)"
   ]
  },
  {
   "cell_type": "code",
   "execution_count": null,
   "id": "026102cc",
   "metadata": {},
   "outputs": [],
   "source": [
    "scores_poly = np.mean(val_poly)"
   ]
  },
  {
   "cell_type": "code",
   "execution_count": null,
   "id": "c4e2da52",
   "metadata": {},
   "outputs": [],
   "source": [
    "scores_poly"
   ]
  },
  {
   "cell_type": "markdown",
   "id": "e2477350",
   "metadata": {},
   "source": [
    "Lasso and Ridge Regression"
   ]
  },
  {
   "cell_type": "code",
   "execution_count": null,
   "id": "73b4de4d",
   "metadata": {},
   "outputs": [],
   "source": [
    "val_lass = cross_val_score(lass,x,y,cv=3)\n",
    "scores_lass = np.mean(val_lass)"
   ]
  },
  {
   "cell_type": "code",
   "execution_count": null,
   "id": "536a6fbf",
   "metadata": {},
   "outputs": [],
   "source": [
    "scores_lass"
   ]
  },
  {
   "cell_type": "code",
   "execution_count": null,
   "id": "4138de39",
   "metadata": {},
   "outputs": [],
   "source": []
  },
  {
   "cell_type": "code",
   "execution_count": null,
   "id": "0c74b75f",
   "metadata": {},
   "outputs": [],
   "source": [
    "val_rid = cross_val_score(rid,x,y,cv=3)\n",
    "scores_rid = np.mean(val_rid)"
   ]
  },
  {
   "cell_type": "code",
   "execution_count": null,
   "id": "019903a4",
   "metadata": {},
   "outputs": [],
   "source": [
    "scores_rid"
   ]
  },
  {
   "cell_type": "markdown",
   "id": "37f05989",
   "metadata": {},
   "source": [
    "Random Forest Regressor"
   ]
  },
  {
   "cell_type": "code",
   "execution_count": null,
   "id": "52758115",
   "metadata": {},
   "outputs": [],
   "source": [
    "val_rf = cross_val_score(rf,x,y,cv=3)\n",
    "scores_rf = np.mean(val_rf)"
   ]
  },
  {
   "cell_type": "code",
   "execution_count": null,
   "id": "b7d8b71e",
   "metadata": {},
   "outputs": [],
   "source": [
    "scores_rf"
   ]
  },
  {
   "cell_type": "markdown",
   "id": "95c3d8fa",
   "metadata": {},
   "source": [
    "Support Vector Regressor"
   ]
  },
  {
   "cell_type": "code",
   "execution_count": null,
   "id": "8e79e65b",
   "metadata": {},
   "outputs": [],
   "source": [
    "val_svr = cross_val_score(svr,x,y,cv=3)\n",
    "scores_svr =np.mean(val_svr)"
   ]
  },
  {
   "cell_type": "code",
   "execution_count": null,
   "id": "10db4b96",
   "metadata": {},
   "outputs": [],
   "source": [
    "scores_svr"
   ]
  },
  {
   "cell_type": "code",
   "execution_count": null,
   "id": "1cb2688d",
   "metadata": {},
   "outputs": [],
   "source": [
    "pd.DataFrame({'Model':[\"SLR\",\"MLR\",\"Polynomial Regression model\",\"Lasso Regression\",\"Ridge Regression\",\"Random Forest Regressor\",\"Support vector Regressor\"],\"TrainRmse\":[trainrmse_slr,trainrmse_mlr,trainrmse_poly,trainrmse_lass,trainrmse_rid,trainrmse_rf,trainrmse_svr],\"TestRmse\":[testrmse_slr,testrmse_mlr,testrmse_poly,testrmse_lass,testrmse_rid,testrmse_rf,testrmse_svr],\"TrainScore\":[trainr2_slr,trainr2_mlr,trainr2_poly,trainr2_lass,trainr2_rid,trainr2_rf,trainr2_svr],'TestScore':[testr2_slr,testr2_mlr,testr2_poly,testr2_lass,testr2_rid,testr2_rf,testr2_svr],\"Fit\":[bvtf_slr,bvtf_mlr,bvtf_poly,bvtf_lass,bvtf_rid,bvtf_rf,bvtf_svr],\"CrossValidationScore\":[scores_slr,scores_mlr,scores_poly,scores_lass,scores_rid,scores_rf,scores_svr]})"
   ]
  },
  {
   "cell_type": "markdown",
   "id": "83586a22",
   "metadata": {},
   "source": [
    "INSIGHT :SLR, MLR,Polynomial Regression,Ridge Regression,Random Forest Regressor,Support Vector Regressor are goodfit models but when comparing the RMSE and R2SCORE MLR is goodmodel"
   ]
  },
  {
   "cell_type": "markdown",
   "id": "20066805",
   "metadata": {},
   "source": [
    "# 7.4)predications visualization"
   ]
  },
  {
   "cell_type": "markdown",
   "id": "24839ed9",
   "metadata": {},
   "source": [
    "SLR"
   ]
  },
  {
   "cell_type": "code",
   "execution_count": null,
   "id": "8f107919",
   "metadata": {},
   "outputs": [],
   "source": [
    "import matplotlib.pyplot as plt\n",
    "plt.figure(figsize=(5,3))\n",
    "plt.scatter(x_test['GRE_Score'],y_test,label=\"Actual Data\")#Actual Data\n",
    "plt.scatter(x_test['GRE_Score'],slr.predict(np.array(x_test['GRE_Score']).reshape(-1,1)),color=\"red\",label=\"Best Fit Line\")#Predicted Data\n",
    "plt.title(\"Actual vs Prediction\")\n",
    "plt.xlabel(\"GRE Score\")\n",
    "plt.ylabel(\"Chance od Admit\")\n",
    "plt.legend()\n",
    "plt.show()"
   ]
  },
  {
   "cell_type": "code",
   "execution_count": null,
   "id": "0a99dd5e",
   "metadata": {},
   "outputs": [],
   "source": [
    "plt.figure(figsize=(5,3))\n",
    "plt.scatter(y_test, y_test_predslr)\n",
    "plt.xlabel(\"y_test\")\n",
    "plt.ylabel(\"predictions\")"
   ]
  },
  {
   "cell_type": "markdown",
   "id": "a36a702a",
   "metadata": {},
   "source": [
    "MLR"
   ]
  },
  {
   "cell_type": "code",
   "execution_count": null,
   "id": "d16fc006",
   "metadata": {},
   "outputs": [],
   "source": [
    "import matplotlib.pyplot as plt\n",
    "plt.figure(figsize=(5,3))\n",
    "plt.scatter(y_test, y_test_predmlr)\n",
    "plt.xlabel('y_test')\n",
    "plt.ylabel(\"predictions\")"
   ]
  },
  {
   "cell_type": "markdown",
   "id": "ba61dc08",
   "metadata": {},
   "source": [
    "Lasso and Ridge Regression"
   ]
  },
  {
   "cell_type": "code",
   "execution_count": null,
   "id": "accbc332",
   "metadata": {},
   "outputs": [],
   "source": [
    "plt.figure(figsize=(5,3))\n",
    "plt.scatter(y_test, y_test_predlass)\n",
    "plt.xlabel('y_test')\n",
    "plt.ylabel(\"predictions\")"
   ]
  },
  {
   "cell_type": "code",
   "execution_count": null,
   "id": "ca03df1d",
   "metadata": {},
   "outputs": [],
   "source": [
    "plt.figure(figsize=(5,3))\n",
    "plt.scatter(y_test, y_test_predrid)\n",
    "plt.xlabel('y_test')\n",
    "plt.ylabel(\"predictions\")"
   ]
  },
  {
   "cell_type": "markdown",
   "id": "0d79abb8",
   "metadata": {},
   "source": [
    "Random Forest Regressor"
   ]
  },
  {
   "cell_type": "code",
   "execution_count": null,
   "id": "129939d6",
   "metadata": {},
   "outputs": [],
   "source": [
    "df.head()"
   ]
  },
  {
   "cell_type": "markdown",
   "id": "a30a243a",
   "metadata": {},
   "source": [
    "# 8)Real time predictions"
   ]
  },
  {
   "cell_type": "code",
   "execution_count": null,
   "id": "b9d3394f",
   "metadata": {},
   "outputs": [],
   "source": [
    "x1 = pd.DataFrame([[310,100,4,4.0,3.5,9.0,1]], columns = ['GRE_Score', 'TOEFL_Score', 'University_Rating', 'SOP', 'LOR', 'CGPA', 'Research'])"
   ]
  },
  {
   "cell_type": "code",
   "execution_count": null,
   "id": "42572789",
   "metadata": {},
   "outputs": [],
   "source": [
    "x1.iloc[:,[0,1,3,4,5]] = sc.transform(x1.iloc[:,[0,1,3,4,5]])"
   ]
  },
  {
   "cell_type": "code",
   "execution_count": null,
   "id": "b36854b1",
   "metadata": {},
   "outputs": [],
   "source": [
    "x1"
   ]
  },
  {
   "cell_type": "code",
   "execution_count": null,
   "id": "4a5aaead",
   "metadata": {},
   "outputs": [],
   "source": [
    "mlr.predict(x1)"
   ]
  },
  {
   "cell_type": "markdown",
   "id": "6311cfb1",
   "metadata": {},
   "source": [
    "# 9)Save best model for future use"
   ]
  },
  {
   "cell_type": "markdown",
   "id": "50dd6f56",
   "metadata": {},
   "source": [
    "we can save the model which has given better results. which further can be used anywhere to get predictions\n",
    "\n",
    "* Joblib module helps us to save the model\n",
    "* any ml model can be saved in .pkl format"
   ]
  },
  {
   "cell_type": "code",
   "execution_count": null,
   "id": "d1b2319b",
   "metadata": {},
   "outputs": [],
   "source": [
    "import joblib"
   ]
  },
  {
   "cell_type": "code",
   "execution_count": null,
   "id": "5bb2553c",
   "metadata": {},
   "outputs": [],
   "source": [
    "joblib.dump(mlr,\"mlr_university_pred.pkl\")"
   ]
  },
  {
   "cell_type": "markdown",
   "id": "daea3434",
   "metadata": {},
   "source": [
    "Loading saved model and getting predictions"
   ]
  },
  {
   "cell_type": "code",
   "execution_count": null,
   "id": "f0142943",
   "metadata": {},
   "outputs": [],
   "source": [
    "model = joblib.load('mlr_university_pred.pkl')"
   ]
  },
  {
   "cell_type": "markdown",
   "id": "208391cf",
   "metadata": {},
   "source": [
    "# 10)Improvements & Suggestions"
   ]
  },
  {
   "cell_type": "code",
   "execution_count": null,
   "id": "4f1b65f4",
   "metadata": {},
   "outputs": [],
   "source": []
  },
  {
   "cell_type": "code",
   "execution_count": null,
   "id": "d3c67a1d",
   "metadata": {},
   "outputs": [],
   "source": []
  },
  {
   "cell_type": "code",
   "execution_count": null,
   "id": "22dd3ab7",
   "metadata": {},
   "outputs": [],
   "source": []
  }
 ],
 "metadata": {
  "kernelspec": {
   "display_name": "Python 3 (ipykernel)",
   "language": "python",
   "name": "python3"
  },
  "language_info": {
   "codemirror_mode": {
    "name": "ipython",
    "version": 3
   },
   "file_extension": ".py",
   "mimetype": "text/x-python",
   "name": "python",
   "nbconvert_exporter": "python",
   "pygments_lexer": "ipython3",
   "version": "3.9.13"
  }
 },
 "nbformat": 4,
 "nbformat_minor": 5
}
